{
  "nbformat": 4,
  "nbformat_minor": 0,
  "metadata": {
    "colab": {
      "provenance": [],
      "authorship_tag": "ABX9TyP/pawECPPmm9gtcQVEqykn",
      "include_colab_link": true
    },
    "kernelspec": {
      "name": "python3",
      "display_name": "Python 3"
    },
    "language_info": {
      "name": "python"
    }
  },
  "cells": [
    {
      "cell_type": "markdown",
      "metadata": {
        "id": "view-in-github",
        "colab_type": "text"
      },
      "source": [
        "<a href=\"https://colab.research.google.com/github/msymhkr/mainopen/blob/main/GrammerChecking.ipynb\" target=\"_parent\"><img src=\"https://colab.research.google.com/assets/colab-badge.svg\" alt=\"Open In Colab\"/></a>"
      ]
    },
    {
      "cell_type": "code",
      "source": [
        "# !pip install torch torchvision torchaudio --index-url https://download.pytorch.org/whl/cu118"
      ],
      "metadata": {
        "id": "W0gWfOHQfoBd"
      },
      "execution_count": 17,
      "outputs": []
    },
    {
      "cell_type": "code",
      "source": [
        "# !pip install -U git+https://github.com/PrithivirajDamodaran/Gramformer.git"
      ],
      "metadata": {
        "id": "wBoFXQi_hK9K"
      },
      "execution_count": 18,
      "outputs": []
    },
    {
      "cell_type": "code",
      "source": [
        "from gramformer import Gramformer\n",
        "\n",
        "gf = Gramformer(models=1, use_gpu=False)\n",
        "\n",
        "sentences = [\n",
        "      \"She was performed well in manager.\",\n",
        "\n",
        "]\n",
        "for sentence in sentences:\n",
        "    res = gf.correct(sentence)\n",
        "    print(res)"
      ],
      "metadata": {
        "id": "kPRpRii6cPYN"
      },
      "execution_count": null,
      "outputs": []
    }
  ]
}