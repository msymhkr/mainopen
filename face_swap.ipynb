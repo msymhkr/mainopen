{
  "nbformat": 4,
  "nbformat_minor": 0,
  "metadata": {
    "colab": {
      "provenance": [],
      "mount_file_id": "1sHJemsOCx-E2heTYJ_QpfWFU_cOVMCDW",
      "authorship_tag": "ABX9TyPOahIcvwDLNBuSTJmGp/Rc",
      "include_colab_link": true
    },
    "kernelspec": {
      "name": "python3",
      "display_name": "Python 3"
    },
    "language_info": {
      "name": "python"
    }
  },
  "cells": [
    {
      "cell_type": "markdown",
      "metadata": {
        "id": "view-in-github",
        "colab_type": "text"
      },
      "source": [
        "<a href=\"https://colab.research.google.com/github/msymhkr/mainopen/blob/main/face_swap.ipynb\" target=\"_parent\"><img src=\"https://colab.research.google.com/assets/colab-badge.svg\" alt=\"Open In Colab\"/></a>"
      ]
    },
    {
      "cell_type": "code",
      "source": [
        "# !pip install insightface\n",
        "# !pip install onnxruntime"
      ],
      "metadata": {
        "id": "AliUyezWxGwz"
      },
      "execution_count": null,
      "outputs": []
    },
    {
      "cell_type": "code",
      "execution_count": null,
      "metadata": {
        "id": "Bg7dg2Z8hSpJ"
      },
      "outputs": [],
      "source": [
        "import numpy as np\n",
        "import os\n",
        "import glob\n",
        "import cv2\n",
        "import matplotlib.pyplot as plt\n",
        "import insightface\n",
        "from insightface.app import FaceAnalysis\n",
        "from insightface.data import get_image as ins_get_image"
      ]
    },
    {
      "cell_type": "code",
      "source": [
        "app = FaceAnalysis(name='buffalo_l')\n",
        "app.prepare(ctx_id=0, det_size=(640, 640))"
      ],
      "metadata": {
        "id": "LCRyxxF1jxYF"
      },
      "execution_count": null,
      "outputs": []
    },
    {
      "cell_type": "code",
      "source": [
        "img = ins_get_image('/content/drive/MyDrive/sample_file/face_images/Koo004')\n",
        "plt.imshow(img[:,:,::-1])\n",
        "plt.show()\n",
        "faces = app.get(img)\n",
        "len(faces)\n",
        "faces[0].keys()\n",
        "# dict_keys(['bbox', 'kps', 'det_score', 'landmark_3d_68', 'pose', 'landmark_2d_106', 'gender', 'age', 'embedding'"
      ],
      "metadata": {
        "id": "92LqZB08mmZx"
      },
      "execution_count": null,
      "outputs": []
    },
    {
      "cell_type": "code",
      "source": [
        "fig, axs = plt.subplots(1, 6, figsize=(12, 5))\n",
        "for i, face in enumerate(faces):\n",
        "  bbox = face['bbox']\n",
        "  bbox = [int(b) for b in bbox]\n",
        "  axs[i].imshow(img[bbox[1]:bbox[3], bbox[0]:bbox[2], ::-1])\n",
        "  axs[i].axis('off')"
      ],
      "metadata": {
        "id": "5gj9Q1HDrrli"
      },
      "execution_count": null,
      "outputs": []
    }
  ]
}