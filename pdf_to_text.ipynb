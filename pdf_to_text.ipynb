{
  "cells": [
    {
      "cell_type": "markdown",
      "metadata": {
        "id": "view-in-github",
        "colab_type": "text"
      },
      "source": [
        "<a href=\"https://colab.research.google.com/github/msymhkr/mainopen/blob/main/pdf_to_text.ipynb\" target=\"_parent\"><img src=\"https://colab.research.google.com/assets/colab-badge.svg\" alt=\"Open In Colab\"/></a>"
      ]
    },
    {
      "cell_type": "markdown",
      "source": [
        "Method 1 - pdf to text"
      ],
      "metadata": {
        "id": "1vTSzAzcGGqi"
      }
    },
    {
      "cell_type": "code",
      "source": [
        "import PyPDF2 as pdf\n",
        "\n",
        "file = open(\"/content/Barthes.pdf\", \"rb\")\n",
        "reader = PdfReader(file)\n",
        "info = reader.metadata\n",
        "# reader.pages[1].extract_text()\n",
        "\n",
        "def extract_text_from_pdf(pdf_path):\n",
        "  with open(pdf_path, \"rb\") as f:\n",
        "    reader = PdfReader(f)\n",
        "    results = []\n",
        "    for i in range(0, len(reader.pages)):\n",
        "      selected_page = reader.pages[i]\n",
        "      text = selected_page.extract_text()\n",
        "      results.append(text)\n",
        "    return\"\".join(results)\n",
        "\n",
        "x = input(\"Input file directory: \")\n",
        "extract_text_from_pdf(x)\n"
      ],
      "metadata": {
        "id": "gbdXNsZT2lTB"
      },
      "execution_count": null,
      "outputs": []
    },
    {
      "cell_type": "markdown",
      "source": [
        "Split pdf"
      ],
      "metadata": {
        "id": "W9JrdavhGXrJ"
      }
    },
    {
      "cell_type": "code",
      "source": [
        "import os\n",
        "def split_pdf(pdf_path):\n",
        "  with open(pdf_path, \"rb\") as f:\n",
        "    reader = PdfReader(f)\n",
        "    for page_num in range(0, len(reader.pages)):\n",
        "      selected_page = reader.pages[page_num]\n",
        "      writer = pdf.PdfWriter()\n",
        "      writer.add_page(selected_page)\n",
        "      filename = os.path.splitext(pdf_path)[0]\n",
        "      output_filename = f\"{filename}_page_{page_num + 1}.pdf\"\n",
        "      with open(output_filename, \"wb\") as out:\n",
        "        writer.write(out)\n",
        "      print(\"created a pdf:{}\".format(output_filename))\n",
        "\n",
        "\n",
        "y = input(\"Input file directory: \")\n",
        "split_pdf(y)"
      ],
      "metadata": {
        "id": "Zwp68Gd2GXFT"
      },
      "execution_count": null,
      "outputs": []
    },
    {
      "cell_type": "markdown",
      "source": [
        "Method 2 - pdf to text"
      ],
      "metadata": {
        "id": "2EZVrA8qF_DS"
      }
    },
    {
      "cell_type": "code",
      "source": [
        "from PyPDF2 import PdfReader\n",
        "\n",
        "reader = PdfReader(\"/content/Barthes.pdf\")\n",
        "page = reader.pages[1]\n",
        "parts = []\n",
        "\n",
        "def visitor_body(text, cm, tm, fontDict, fontSize):\n",
        "    y = tm[5]\n",
        "    if y > 50 and y < 720:\n",
        "        parts.append(text)\n",
        "\n",
        "page.extract_text(visitor_text=visitor_body)\n",
        "text_body = \"\".join(parts)\n",
        "\n",
        "print(text_body)"
      ],
      "metadata": {
        "id": "NpY-9CiJBXoz"
      },
      "execution_count": null,
      "outputs": []
    },
    {
      "cell_type": "markdown",
      "source": [],
      "metadata": {
        "id": "lFobPQIVGDLP"
      }
    }
  ],
  "metadata": {
    "colab": {
      "provenance": [],
      "toc_visible": true,
      "include_colab_link": true
    },
    "kernelspec": {
      "display_name": "Python 3",
      "name": "python3"
    }
  },
  "nbformat": 4,
  "nbformat_minor": 0
}