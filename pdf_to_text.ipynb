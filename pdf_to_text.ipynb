{
  "cells": [
    {
      "cell_type": "markdown",
      "metadata": {
        "id": "view-in-github",
        "colab_type": "text"
      },
      "source": [
        "<a href=\"https://colab.research.google.com/github/msymhkr/mainopen/blob/main/pdf_to_text.ipynb\" target=\"_parent\"><img src=\"https://colab.research.google.com/assets/colab-badge.svg\" alt=\"Open In Colab\"/></a>"
      ]
    },
    {
      "cell_type": "code",
      "source": [
        "from PyPDF2 import PdfReader\n",
        "\n",
        "reader = PdfReader(\"GeoBase_NHNC1_Data_Model_UML_EN.pdf\")\n",
        "page = reader.pages[3]\n",
        "\n",
        "parts = []\n",
        "\n",
        "def visitor_body(text, cm, tm, fontDict, fontSize):\n",
        "    y = tm[5]\n",
        "    if y > 50 and y < 720:\n",
        "        parts.append(text)\n",
        "\n",
        "page.extract_text(visitor_text=visitor_body)\n",
        "text_body = \"\".join(parts)\n",
        "\n",
        "print(text_body)"
      ],
      "metadata": {
        "id": "NpY-9CiJBXoz"
      },
      "execution_count": null,
      "outputs": []
    }
  ],
  "metadata": {
    "colab": {
      "provenance": [],
      "include_colab_link": true
    },
    "kernelspec": {
      "display_name": "Python 3",
      "name": "python3"
    }
  },
  "nbformat": 4,
  "nbformat_minor": 0
}