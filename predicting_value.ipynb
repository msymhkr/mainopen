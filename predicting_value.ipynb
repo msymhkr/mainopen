{
  "nbformat": 4,
  "nbformat_minor": 0,
  "metadata": {
    "colab": {
      "provenance": [],
      "authorship_tag": "ABX9TyP5zVPM4sj/5xKBMKzIoLuV",
      "include_colab_link": true
    },
    "kernelspec": {
      "name": "python3",
      "display_name": "Python 3"
    },
    "language_info": {
      "name": "python"
    }
  },
  "cells": [
    {
      "cell_type": "markdown",
      "metadata": {
        "id": "view-in-github",
        "colab_type": "text"
      },
      "source": [
        "<a href=\"https://colab.research.google.com/github/msymhkr/mainopen/blob/main/predicting_value.ipynb\" target=\"_parent\"><img src=\"https://colab.research.google.com/assets/colab-badge.svg\" alt=\"Open In Colab\"/></a>"
      ]
    },
    {
      "cell_type": "code",
      "source": [
        "import pandas as pd\n",
        "\n",
        "url = \"/content/temp_test01.csv\"\n",
        "data = pd.read_csv(url)\n",
        "print(data)\n",
        "# y = w*x + b\n",
        "x = data[\"temperature\"]\n",
        "y = data[\"time\"]"
      ],
      "metadata": {
        "id": "SC2b1YouuHX7"
      },
      "execution_count": null,
      "outputs": []
    },
    {
      "cell_type": "code",
      "source": [
        "import matplotlib.pyplot as plt\n",
        "from ipywidgets import interact\n",
        "\n",
        "plt.scatter(x, y)\n",
        "plt.title (\"temp_time\")\n",
        "plt.xlabel(\"temperature\")\n",
        "plt.ylabel(\"time\")\n",
        "\n",
        "def plot_pred(w, b):\n",
        "  y_pred = x*w + b\n",
        "  plt.plot(x, y_pred, color=\"blue\", label=\"Predict Line\")\n",
        "  plt.scatter(x, y, marker=\"x\", color=\"red\", label=\"Real Data\")\n",
        "  plt.xlim([-20, 150])\n",
        "  plt.ylim([0, 60])\n",
        "  plt.legend()    # show label\n",
        "  plt.show()\n",
        "\n",
        "# plot_pred(0.5, 1)\n",
        "interact(plot_pred, w=(-1, 1, 0.01), b=(-50, 50 ,0.5))    # value bar"
      ],
      "metadata": {
        "id": "i5nE5DTn003S"
      },
      "execution_count": null,
      "outputs": []
    },
    {
      "cell_type": "code",
      "source": [
        "def compute_cost(x, y, w, b):\n",
        "  y_pred = w*x + b\n",
        "  cost = (y - y_pred)**2\n",
        "  cost = cost.sum() / len(x)   # len(x)= total number of x\n",
        "\n",
        "  return cost\n",
        "compute_cost(x, y, 0.01, 0.1)"
      ],
      "metadata": {
        "colab": {
          "base_uri": "https://localhost:8080/"
        },
        "id": "O3YL_sorDOjY",
        "outputId": "a6b7b2ef-428c-4918-9de4-ffdb0a7f73cf"
      },
      "execution_count": null,
      "outputs": [
        {
          "output_type": "execute_result",
          "data": {
            "text/plain": [
              "295.64606153846154"
            ]
          },
          "metadata": {},
          "execution_count": 40
        }
      ]
    }
  ]
}