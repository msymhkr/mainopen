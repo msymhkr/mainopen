{
  "cells": [
    {
      "cell_type": "markdown",
      "metadata": {
        "id": "view-in-github",
        "colab_type": "text"
      },
      "source": [
        "<a href=\"https://colab.research.google.com/github/msymhkr/mainopen/blob/main/Conv2D_cifar10.ipynb\" target=\"_parent\"><img src=\"https://colab.research.google.com/assets/colab-badge.svg\" alt=\"Open In Colab\"/></a>"
      ]
    },
    {
      "cell_type": "code",
      "source": [
        "import tensorflow as tf\n",
        "from tensorflow import keras\n",
        "from tensorflow.keras import layers, utils, models\n",
        "from tensorflow.keras.models import Sequential\n",
        "from tensorflow.keras.layers import Dense, Conv2D, MaxPooling2D, Flatten, Dropout\n",
        "from tensorflow.keras.datasets import cifar10\n",
        "\n",
        "(x_train, y_train), (x_test, y_test) = cifar10.load_data()\n",
        "x_train_norm = x_train.astype('float')/255\n",
        "x_test_norm = x_test.astype('float')/255\n",
        "y_train_onehot = utils.to_categorical(y_train, 10)\n",
        "y_test_onehot = utils.to_categorical(y_test, 10)\n",
        "\n",
        "cnn = Sequential()\n",
        "cnn.add(Conv2D(filters=32,\n",
        "        kernel_size=(3,3),\n",
        "        padding='same',\n",
        "        activation='relu',\n",
        "        input_shape=(32,32,3)))\n",
        "cnn.add(Dropout(0.25))\n",
        "cnn.add(MaxPooling2D(pool_size=(2,2), strides=1))\n",
        "\n",
        "cnn.add(Conv2D(filters=64,\n",
        "        kernel_size=(3,3),\n",
        "        padding='same',\n",
        "        activation='relu'))\n",
        "cnn.add(Dropout(0.25))\n",
        "cnn.add(MaxPooling2D(pool_size=(2,2), strides=1))\n",
        "\n",
        "cnn.add(Flatten())\n",
        "cnn.add(Dropout(0.25))\n",
        "cnn.add(Dense(1024, activation='relu'))\n",
        "cnn.add(Dropout(0.25))\n",
        "cnn.add(Dense(10, activation='softmax'))\n",
        "\n",
        "cnn.compile(loss='categorical_crossentropy',\n",
        "      optimizer='adam',\n",
        "      metrics=['acc'])\n",
        "\n",
        "history = cnn.fit(x=x_train_norm,\n",
        "          y=y_train_onehot,\n",
        "          batch_size=128,\n",
        "          epochs=20,\n",
        "          validation_split=0.1,)\n",
        "\n",
        "cnn.save('cifar10_save-1.h5')\n",
        "#tf.keras.models.save_model(cnn,'/content/cifar10_save-2.h5')\n",
        "\n",
        "#cnn.summary()\n",
        "#print(cnn.get_weights())"
      ],
      "metadata": {
        "id": "QNE8zTJ8VR_W",
        "colab": {
          "base_uri": "https://localhost:8080/"
        },
        "outputId": "37ebe092-e66f-4635-d139-69f2f3b84457"
      },
      "execution_count": 13,
      "outputs": [
        {
          "output_type": "stream",
          "name": "stderr",
          "text": [
            "WARNING:absl:You are saving your model as an HDF5 file via `model.save()` or `keras.saving.save_model(model)`. This file format is considered legacy. We recommend using instead the native Keras format, e.g. `model.save('my_model.keras')` or `keras.saving.save_model(model, 'my_model.keras')`. \n",
            "WARNING:absl:You are saving your model as an HDF5 file via `model.save()` or `keras.saving.save_model(model)`. This file format is considered legacy. We recommend using instead the native Keras format, e.g. `model.save('my_model.keras')` or `keras.saving.save_model(model, 'my_model.keras')`. \n"
          ]
        }
      ]
    },
    {
      "cell_type": "code",
      "source": [
        "#from google.colab import drive\n",
        "#drive.mount('/content/drive')"
      ],
      "metadata": {
        "id": "PLDpKgZvAluP"
      },
      "execution_count": null,
      "outputs": []
    },
    {
      "cell_type": "code",
      "source": [
        "from tensorflow.keras.models import load_model\n",
        "old_cnn = load_model('cifar10_save-1.h5')\n",
        "\n",
        "test_loss, test_val = cnn.evaluate(x_test_norm, y_test_onehot)\n",
        "print('Test loss: ', test_loss)\n",
        "print('Test acc: ', test_val)"
      ],
      "metadata": {
        "id": "ptNGVaK-cjdh",
        "colab": {
          "base_uri": "https://localhost:8080/"
        },
        "outputId": "938a1139-7a7b-40a6-8012-ddd05db0762d"
      },
      "execution_count": 14,
      "outputs": [
        {
          "output_type": "stream",
          "name": "stderr",
          "text": [
            "WARNING:absl:Compiled the loaded model, but the compiled metrics have yet to be built. `model.compile_metrics` will be empty until you train or evaluate the model.\n"
          ]
        },
        {
          "output_type": "stream",
          "name": "stdout",
          "text": [
            "\u001b[1m313/313\u001b[0m \u001b[32m━━━━━━━━━━━━━━━━━━━━\u001b[0m\u001b[37m\u001b[0m \u001b[1m2s\u001b[0m 5ms/step - acc: 0.6923 - loss: 1.2392\n",
            "Test loss:  1.2541457414627075\n",
            "Test acc:  0.6917999982833862\n"
          ]
        }
      ]
    },
    {
      "cell_type": "code",
      "source": [
        "from matplotlib import pyplot as plt\n",
        "\n",
        "plt.figure(figsize=(15,5))\n",
        "plt.xticks(fontsize = 10)\n",
        "plt.yticks(fontsize = 10)\n",
        "plt.subplot(1, 2, 1)\n",
        "plt.plot(history.history[\"acc\"], label=\"Training accuracy\")\n",
        "plt.plot(history.history[\"val_acc\"], label=\"Validation accuracy\")\n",
        "plt.legend(loc=\"upper left\")\n",
        "plt.subplot(1, 2, 2)\n",
        "plt.plot(history.history[\"loss\"], label=\"Training loss\")\n",
        "plt.plot(history.history[\"val_loss\"], label=\"Validation loss\")\n",
        "plt.legend(loc=\"upper right\")\n",
        "\n",
        "plt.tight_layout()\n",
        "plt.show()"
      ],
      "metadata": {
        "id": "s6mpV0ZxFVoq"
      },
      "execution_count": null,
      "outputs": []
    },
    {
      "cell_type": "code",
      "source": [
        "#print 1st prediction and image\n",
        "from matplotlib import pyplot as plt\n",
        "\n",
        "predict_prop = cnn.predict(x_test_norm)\n",
        "print('1st batch prediction: ', predict_prop[7])\n",
        "\n",
        "fig = plt.gcf()\n",
        "fig.set_size_inches(2,2)\n",
        "plt.imshow(x_test[7])\n",
        "print(y_test[7])\n",
        "plt.show()"
      ],
      "metadata": {
        "id": "1vZGqaone805",
        "colab": {
          "base_uri": "https://localhost:8080/",
          "height": 286
        },
        "outputId": "36597625-8ff3-4bae-cae7-afe5d6263c5a"
      },
      "execution_count": 31,
      "outputs": [
        {
          "output_type": "stream",
          "name": "stdout",
          "text": [
            "\u001b[1m313/313\u001b[0m \u001b[32m━━━━━━━━━━━━━━━━━━━━\u001b[0m\u001b[37m\u001b[0m \u001b[1m1s\u001b[0m 2ms/step\n",
            "1st batch prediction:  [9.0658327e-04 4.9408740e-05 1.7112927e-01 1.8774787e-01 2.5727528e-01\n",
            " 1.7823254e-01 2.0024633e-01 5.8819581e-04 2.6371519e-03 1.1874462e-03]\n",
            "[6]\n"
          ]
        },
        {
          "output_type": "display_data",
          "data": {
            "text/plain": [
              "<Figure size 200x200 with 1 Axes>"
            ],
            "image/png": "[encoded data removed]"
          },
          "metadata": {}
        }
      ]
    },
    {
      "cell_type": "code",
      "source": [
        "#print first 10 predict and original labels\n",
        "import numpy as np\n",
        "print('First 10 Original labels: ', y_test[:10].reshape(10))\n",
        "\n",
        "predict_class = (cnn.predict(x_test_norm) > 0.5).astype(\"int32\")\n",
        "print('First 10 predict labels: ', predict_class[:10])\n",
        "y = []\n",
        "for x in predict_class[:10]:\n",
        "  x = x.tolist()\n",
        "  try:\n",
        "    x = x.index(1)\n",
        "    print(x)\n",
        "    y.append(x)\n",
        "  except:\n",
        "    x = x\n",
        "    x = 'x'\n",
        "    print(x)\n",
        "    y.append(x)\n",
        "    pass\n",
        "print(f'Result list{y}')"
      ],
      "metadata": {
        "id": "bOiRoxXxhSRQ",
        "colab": {
          "base_uri": "https://localhost:8080/"
        },
        "outputId": "00d86672-e60d-4e0c-ec29-aeaafc36b7c8"
      },
      "execution_count": 23,
      "outputs": [
        {
          "output_type": "stream",
          "name": "stdout",
          "text": [
            "First 10 Original labels:  [3 8 8 0 6 6 1 6 3 1]\n",
            "\u001b[1m313/313\u001b[0m \u001b[32m━━━━━━━━━━━━━━━━━━━━\u001b[0m\u001b[37m\u001b[0m \u001b[1m1s\u001b[0m 2ms/step\n",
            "First 10 predict labels:  [[0 0 0 1 0 0 0 0 0 0]\n",
            " [0 0 0 0 0 0 0 0 1 0]\n",
            " [1 0 0 0 0 0 0 0 0 0]\n",
            " [1 0 0 0 0 0 0 0 0 0]\n",
            " [0 0 0 0 1 0 0 0 0 0]\n",
            " [0 0 0 0 0 0 1 0 0 0]\n",
            " [0 1 0 0 0 0 0 0 0 0]\n",
            " [0 0 0 0 0 0 0 0 0 0]\n",
            " [0 0 0 1 0 0 0 0 0 0]\n",
            " [0 1 0 0 0 0 0 0 0 0]]\n",
            "3\n",
            "8\n",
            "0\n",
            "0\n",
            "4\n",
            "6\n",
            "1\n",
            "x\n",
            "3\n",
            "1\n",
            "Result list[3, 8, 0, 0, 4, 6, 1, 'x', 3, 1]\n"
          ]
        }
      ]
    }
  ],
  "metadata": {
    "colab": {
      "provenance": [],
      "gpuType": "T4",
      "include_colab_link": true
    },
    "kernelspec": {
      "display_name": "Python 3",
      "name": "python3"
    },
    "accelerator": "GPU"
  },
  "nbformat": 4,
  "nbformat_minor": 0
}