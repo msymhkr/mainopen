{
  "cells": [
    {
      "cell_type": "markdown",
      "metadata": {
        "id": "view-in-github",
        "colab_type": "text"
      },
      "source": [
        "<a href=\"https://colab.research.google.com/github/msymhkr/mainopen/blob/main/Conv2D_cifar10.ipynb\" target=\"_parent\"><img src=\"https://colab.research.google.com/assets/colab-badge.svg\" alt=\"Open In Colab\"/></a>"
      ]
    },
    {
      "cell_type": "code",
      "source": [
        "import tensorflow as tf\n",
        "from tensorflow import keras\n",
        "from tensorflow.keras import layers, utils\n",
        "from tensorflow.keras.models import Sequential\n",
        "from tensorflow.keras.layers import Dense, Conv2D, MaxPooling2D, Flatten, Dropout\n",
        "from tensorflow.keras.datasets import cifar10\n",
        "\n",
        "(x_train, y_train), (x_test, y_test) = cifar10.load_data()\n",
        "x_train_norm = x_train.astype('float')/255\n",
        "x_test_norm = x_test.astype('float')/255\n",
        "y_train_onehot = utils.to_categorical(y_train, 10)\n",
        "y_test_onehot = utils.to_categorical(y_test, 10)\n",
        "\n",
        "cnn = Sequential()\n",
        "cnn.add(Conv2D(filters=32,\n",
        "        kernel_size=(3,3),\n",
        "        padding='same',\n",
        "        activation='relu',\n",
        "        input_shape=(32,32,3)))\n",
        "cnn.add(Dropout(0.25))\n",
        "cnn.add(MaxPooling2D(pool_size=(2,2), strides=1))\n",
        "\n",
        "cnn.add(Conv2D(filters=64,\n",
        "        kernel_size=(3,3),\n",
        "        padding='same',\n",
        "        activation='relu'))\n",
        "cnn.add(Dropout(0.25))\n",
        "cnn.add(MaxPooling2D(pool_size=(2,2), strides=1))\n",
        "\n",
        "cnn.add(Flatten())\n",
        "cnn.add(Dropout(0.25))\n",
        "cnn.add(Dense(1024, activation='relu'))\n",
        "cnn.add(Dropout(0.25))\n",
        "cnn.add(Dense(10, activation='softmax'))\n",
        "\n",
        "cnn.compile(loss='categorical_crossentropy',\n",
        "      optimizer='adam',\n",
        "      metrics=['acc'])\n",
        "\n",
        "history = cnn.fit(x=x_train_norm,\n",
        "          y=y_train_onehot,\n",
        "          batch_size=128,\n",
        "          epochs=20,\n",
        "          validation_split=0.1,)\n",
        "\n",
        "cnn.save('cifar10_save.h5')\n",
        "#tensorflow.keras.model.save('my_cifar1010_save.keras')\n",
        "#keras.saving.save_model(model, 'my_cifar101010_save.keras')\n",
        "\n",
        "#cnn.summary()\n",
        "#print(cnn.get_weights())"
      ],
      "metadata": {
        "id": "QNE8zTJ8VR_W"
      },
      "execution_count": null,
      "outputs": []
    },
    {
      "cell_type": "code",
      "source": [
        "from tensorflow.keras.models import load_model\n",
        "old_cnn = load_model('cifar10_save.h5')\n",
        "\n",
        "test_loss, test_val = cnn.evaluate(x_test_norm, y_test_onehot)\n",
        "print('Test loss: ', test_loss)\n",
        "print('Test acc: ', test_val)"
      ],
      "metadata": {
        "id": "ptNGVaK-cjdh"
      },
      "execution_count": null,
      "outputs": []
    },
    {
      "cell_type": "code",
      "source": [
        "from matplotlib import pyplot as plt\n",
        "\n",
        "plt.figure(figsize=(15,5))\n",
        "plt.xticks(fontsize = 10)\n",
        "plt.yticks(fontsize = 10)\n",
        "plt.subplot(1, 2, 1)\n",
        "plt.plot(history.history[\"acc\"], label=\"Training accuracy\")\n",
        "plt.plot(history.history[\"val_acc\"], label=\"Validation accuracy\")\n",
        "plt.legend(loc=\"upper left\")\n",
        "plt.subplot(1, 2, 2)\n",
        "plt.plot(history.history[\"loss\"], label=\"Training loss\")\n",
        "plt.plot(history.history[\"val_loss\"], label=\"Validation loss\")\n",
        "plt.legend(loc=\"upper right\")\n",
        "\n",
        "plt.tight_layout()\n",
        "plt.show()"
      ],
      "metadata": {
        "id": "s6mpV0ZxFVoq"
      },
      "execution_count": null,
      "outputs": []
    },
    {
      "cell_type": "code",
      "source": [
        "#print 1st prediction and image\n",
        "predict_prop = cnn.predict(x_test_norm)\n",
        "print('1st batch prediction: ', predict_prop[0])\n",
        "\n",
        "fig = plt.gcf()\n",
        "fig.set_size_inches(2,2)\n",
        "plt.imshow(x_test[0])\n",
        "plt.show()"
      ],
      "metadata": {
        "id": "1vZGqaone805"
      },
      "execution_count": null,
      "outputs": []
    },
    {
      "cell_type": "code",
      "source": [
        "#print first 10 predict and original labels\n",
        "import numpy as np\n",
        "print('First 10 Original labels: ', y_test[:10].reshape(10))\n",
        "\n",
        "predict_class = (cnn.predict(x_test_norm) > 0.5).astype(\"int32\")\n",
        "print('First 10 predict labels: ', predict_class[:10])\n",
        "y = []\n",
        "for x in predict_class[:10]:\n",
        "  x = x.tolist()\n",
        "  try:\n",
        "    print(x.index(1))\n",
        "    y.append()\n",
        "  except:\n",
        "    x = x\n",
        "    y.append\n",
        "    pass\n",
        "print(y)"
      ],
      "metadata": {
        "id": "bOiRoxXxhSRQ"
      },
      "execution_count": null,
      "outputs": []
    }
  ],
  "metadata": {
    "colab": {
      "provenance": [],
      "gpuType": "T4",
      "include_colab_link": true
    },
    "kernelspec": {
      "display_name": "Python 3",
      "name": "python3"
    },
    "accelerator": "GPU"
  },
  "nbformat": 4,
  "nbformat_minor": 0
}