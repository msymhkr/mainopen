{
  "nbformat": 4,
  "nbformat_minor": 0,
  "metadata": {
    "colab": {
      "provenance": [],
      "mount_file_id": "1YsuqTt32AbLJpXHB_gLfNC5FhTFYYv-o",
      "authorship_tag": "ABX9TyPl6JhO3JUSn96yQIK4gf7W",
      "include_colab_link": true
    },
    "kernelspec": {
      "name": "python3",
      "display_name": "Python 3"
    },
    "language_info": {
      "name": "python"
    }
  },
  "cells": [
    {
      "cell_type": "markdown",
      "metadata": {
        "id": "view-in-github",
        "colab_type": "text"
      },
      "source": [
        "<a href=\"https://colab.research.google.com/github/msymhkr/mainopen/blob/main/SRGAN_1.ipynb\" target=\"_parent\"><img src=\"https://colab.research.google.com/assets/colab-badge.svg\" alt=\"Open In Colab\"/></a>"
      ]
    },
    {
      "cell_type": "markdown",
      "source": [
        "Convert Images to hr and lr"
      ],
      "metadata": {
        "id": "CNH3_YhQ7n5T"
      }
    },
    {
      "cell_type": "code",
      "source": [
        "import os\n",
        "from PIL import Image\n",
        "\n",
        "hrp, lrp = 100, 25     # high and low resolution pixels\n",
        "\n",
        "def resize_and_save_images(input_directory, high_res_directory, low_res_directory):\n",
        "    # Create output directories if they don't exist\n",
        "    os.makedirs(high_res_directory, exist_ok=True)\n",
        "    os.makedirs(low_res_directory, exist_ok=True)\n",
        "    # Loop through all images in the input directory\n",
        "    for filename in os.listdir(input_directory):\n",
        "        if filename.lower().endswith(('.jpg', '.png')):  # Add more formats if necessary\n",
        "            img_path = os.path.join(input_directory, filename)\n",
        "            with Image.open(img_path) as img:\n",
        "                # Resize for high and low resolution\n",
        "                high_res_img = img.resize((hrp, hrp), Image.Resampling.LANCZOS)\n",
        "                high_res_img.save(os.path.join(high_res_directory, filename))\n",
        "                low_res_img = img.resize((lrp, lrp), Image.Resampling.LANCZOS)\n",
        "                low_res_img.save(os.path.join(low_res_directory, filename))\n",
        "\n",
        "input_directory1 = '/content/drive/MyDrive/sample_file/srgan_train_samples'\n",
        "high_res_directory1 = '/content/drive/MyDrive/sample_file/srgan_train_samples/srgan_train_hr'\n",
        "low_res_directory1 = '/content/drive/MyDrive/sample_file/srgan_train_samples/srgan_train_lr'\n",
        "resize_and_save_images(input_directory1, high_res_directory1, low_res_directory1)\n",
        "\n",
        "input_directory2 = '/content/drive/MyDrive/sample_file/srgan_test_samples'\n",
        "high_res_directory2 = '/content/drive/MyDrive/sample_file/srgan_test_samples/srgan_test_hr'\n",
        "low_res_directory2 = '/content/drive/MyDrive/sample_file/srgan_test_samples/srgan_test_lr'\n",
        "resize_and_save_images(input_directory2, high_res_directory2, low_res_directory2)"
      ],
      "metadata": {
        "id": "N67VlB3S7l1z"
      },
      "execution_count": 2,
      "outputs": []
    },
    {
      "cell_type": "markdown",
      "source": [
        "To Normalize the images"
      ],
      "metadata": {
        "id": "kho7zMHozdVl"
      }
    },
    {
      "cell_type": "code",
      "execution_count": 3,
      "metadata": {
        "id": "ullaxqD1h_cJ"
      },
      "outputs": [],
      "source": [
        "import numpy as np\n",
        "import os\n",
        "import tensorflow as tf\n",
        "from tensorflow.keras.preprocessing.image import load_img, img_to_array\n",
        "from keras import Model\n",
        "from keras.layers import Conv2D, PReLU, BatchNormalization, Flatten\n",
        "from keras.layers import UpSampling2D, LeakyReLU, Dense, Input, add\n",
        "\n",
        "def load_and_preprocess_image(image_path, target_size):\n",
        "    img = load_img(image_path, target_size=target_size)\n",
        "    img_array = img_to_array(img)\n",
        "    # # Alternatively, normalize to the range [-1, 1]\n",
        "    # img_array = (img_array / 127.5) - 1.0\n",
        "    # Normalize to the range [0, 1]\n",
        "    img_array = img_array / 255.0\n",
        "    return img_array\n",
        "\n",
        "def load_images_from_directory(directory, target_size):\n",
        "    images = []\n",
        "    for filename in os.listdir(directory):\n",
        "        if filename.lower().endswith(('.jpg', '.png')):  # Add more formats if necessary\n",
        "            img_path = os.path.join(directory, filename)\n",
        "            img_array = load_and_preprocess_image(img_path, target_size)\n",
        "            images.append(img_array)\n",
        "    return np.array(images)\n",
        "\n",
        "normalized_train_hr_images = load_images_from_directory(high_res_directory1, (hrp, hrp))\n",
        "normalized_train_lr_images = load_images_from_directory(low_res_directory1, (lrp, lrp))\n",
        "normalized_test_hr_images = load_images_from_directory(high_res_directory2, (hrp, hrp))\n",
        "normalized_test_lr_images = load_images_from_directory(low_res_directory2, (lrp, lrp))\n",
        "\n",
        "lr_ip = Input(shape=(lrp,lrp,3))\n",
        "hr_ip = Input(shape=(hrp,hrp,3))\n",
        "train_lr = normalized_train_lr_images # training images arrays normalized between 0 & 1\n",
        "train_hr = normalized_train_hr_images\n",
        "test_lr = normalized_test_lr_images # testing images arrays normalized between 0 & 1\n",
        "test_hr = normalized_test_hr_images"
      ]
    },
    {
      "cell_type": "markdown",
      "source": [
        "Define Generator"
      ],
      "metadata": {
        "id": "JAlMLt1vBsR7"
      }
    },
    {
      "cell_type": "code",
      "source": [
        "# Residual block\n",
        "def res_block(ip):\n",
        "    res_model = Conv2D(64, (3,3), padding = \"same\")(ip)\n",
        "    res_model = BatchNormalization(momentum = 0.5)(res_model)\n",
        "    res_model = PReLU(shared_axes = [1,2])(res_model)\n",
        "    res_model = Conv2D(64, (3,3), padding = \"same\")(res_model)\n",
        "    res_model = BatchNormalization(momentum = 0.5)(res_model)\n",
        "    return add([ip,res_model])\n",
        "\n",
        "# Upscale the image 2x\n",
        "def upscale_block(ip):\n",
        "    up_model = Conv2D(256, (3,3), padding=\"same\")(ip)\n",
        "    up_model = UpSampling2D( size = 2 )(up_model)\n",
        "    up_model = PReLU(shared_axes=[1,2])(up_model)\n",
        "    return up_model\n",
        "\n",
        "# Generator Model\n",
        "num_res_block = 16\n",
        "def create_gen(gen_ip):\n",
        "    layers = Conv2D(64, (9,9), padding=\"same\")(gen_ip)\n",
        "    layers = PReLU(shared_axes=[1,2])(layers)\n",
        "    temp = layers\n",
        "    for i in range(num_res_block):\n",
        "        layers = res_block(layers)\n",
        "    layers = Conv2D(64, (3,3), padding=\"same\")(layers)\n",
        "    layers = BatchNormalization(momentum=0.5)(layers)\n",
        "    layers = add([layers,temp])\n",
        "    layers = upscale_block(layers)\n",
        "    layers = upscale_block(layers)\n",
        "    op = Conv2D(3, (9,9), padding=\"same\")(layers)\n",
        "    return Model(inputs=gen_ip, outputs=op)"
      ],
      "metadata": {
        "id": "wa5_0LURBr2F"
      },
      "execution_count": 8,
      "outputs": []
    },
    {
      "cell_type": "markdown",
      "source": [
        "Define Discriminator Block"
      ],
      "metadata": {
        "id": "cMKn8UITDfVT"
      }
    },
    {
      "cell_type": "code",
      "source": [
        "#Small block inside the discriminator\n",
        "def discriminator_block(ip, filters, strides=1, bn=True):\n",
        "    disc_model = Conv2D(filters, (3,3), strides, padding=\"same\")(ip)\n",
        "    disc_model = LeakyReLU( alpha=0.2 )(disc_model)\n",
        "    if bn:\n",
        "        disc_model = BatchNormalization( momentum=0.8 )(disc_model)\n",
        "    return disc_model\n",
        "\n",
        "# Discriminator Model\n",
        "def create_disc(disc_ip):\n",
        "    df = 64\n",
        "    d1 = discriminator_block(disc_ip, df, bn=False)\n",
        "    d2 = discriminator_block(d1, df, strides=2)\n",
        "    d3 = discriminator_block(d2, df*2)\n",
        "    d4 = discriminator_block(d3, df*2, strides=2)\n",
        "    d5 = discriminator_block(d4, df*4)\n",
        "    d6 = discriminator_block(d5, df*4, strides=2)\n",
        "    d7 = discriminator_block(d6, df*8)\n",
        "    d8 = discriminator_block(d7, df*8, strides=2)\n",
        "    d8_5 = Flatten()(d8)\n",
        "    d9 = Dense(df*16)(d8_5)\n",
        "    d10 = LeakyReLU(alpha=0.2)(d9)\n",
        "    validity = Dense(1, activation='sigmoid')(d10)\n",
        "    return Model(disc_ip, validity)"
      ],
      "metadata": {
        "id": "Ln2GwSFtDlI6"
      },
      "execution_count": 9,
      "outputs": []
    },
    {
      "cell_type": "markdown",
      "source": [
        "VGG19 Model"
      ],
      "metadata": {
        "id": "gYCRIleESaHE"
      }
    },
    {
      "cell_type": "code",
      "source": [
        "from keras.applications import VGG19\n",
        "# Build the VGG19 model upto 10th layer\n",
        "# Used to extract the features of high res imgaes\n",
        "def build_vgg(hr_shape):\n",
        "    # vgg = VGG19(weights=\"imagenet\")\n",
        "    # vgg.outputs = [vgg.layers[9].output]\n",
        "    # img = Input(shape=hr_shape)\n",
        "    # img_features = vgg(img)\n",
        "    # return Model(img, img_features)\n",
        "    vgg = VGG19(weights=\"imagenet\", include_top=False, input_shape=hr_shape)\n",
        "    return Model(inputs=vgg.inputs, outputs=vgg.layers[10].output)"
      ],
      "metadata": {
        "id": "7O4i37slSiCh"
      },
      "execution_count": 10,
      "outputs": []
    },
    {
      "cell_type": "markdown",
      "source": [
        "Combined Model"
      ],
      "metadata": {
        "id": "JmhDJRZBTDau"
      }
    },
    {
      "cell_type": "code",
      "source": [
        "# Attach the generator and discriminator\n",
        "def create_comb(gen_model, disc_model, vgg, lr_ip, hr_ip):\n",
        "    gen_img = gen_model(lr_ip)\n",
        "    gen_features = vgg(gen_img)\n",
        "    disc_model.trainable = False\n",
        "    validity = disc_model(gen_img)\n",
        "    return Model([lr_ip, hr_ip],[validity,gen_features])"
      ],
      "metadata": {
        "id": "4vcbXGYGTEZc"
      },
      "execution_count": 11,
      "outputs": []
    },
    {
      "cell_type": "markdown",
      "source": [
        "Declare models"
      ],
      "metadata": {
        "id": "pwWAPuMaTIjc"
      }
    },
    {
      "cell_type": "code",
      "source": [
        "generator = create_gen(lr_ip)\n",
        "discriminator = create_disc(hr_ip)\n",
        "discriminator.compile(loss=\"binary_crossentropy\", optimizer=\"adam\",\n",
        "  metrics=['accuracy'])\n",
        "vgg = build_vgg((hrp, hrp, 3))\n",
        "vgg.trainable = False\n",
        "gan_model = create_comb(generator, discriminator, vgg, lr_ip, hr_ip)\n",
        "gan_model.compile(loss=[\"binary_crossentropy\",\"mse\"], loss_weights=\n",
        "  [1e-3, 1], optimizer=\"adam\")\n",
        "gan_model.summary()"
      ],
      "metadata": {
        "id": "s0EkeJDqTIHn",
        "colab": {
          "base_uri": "https://localhost:8080/",
          "height": 396
        },
        "outputId": "a614c7d0-a115-47de-8e35-3229225821b1"
      },
      "execution_count": 12,
      "outputs": [
        {
          "output_type": "stream",
          "name": "stderr",
          "text": [
            "/usr/local/lib/python3.11/dist-packages/keras/src/layers/activations/leaky_relu.py:41: UserWarning: Argument `alpha` is deprecated. Use `negative_slope` instead.\n",
            "  warnings.warn(\n"
          ]
        },
        {
          "output_type": "stream",
          "name": "stdout",
          "text": [
            "Downloading data from https://storage.googleapis.com/tensorflow/keras-applications/vgg19/vgg19_weights_tf_dim_ordering_tf_kernels_notop.h5\n",
            "\u001b[1m80134624/80134624\u001b[0m \u001b[32m━━━━━━━━━━━━━━━━━━━━\u001b[0m\u001b[37m\u001b[0m \u001b[1m1s\u001b[0m 0us/step\n"
          ]
        },
        {
          "output_type": "display_data",
          "data": {
            "text/plain": [
              "\u001b[1mModel: \"functional_3\"\u001b[0m\n"
            ],
            "text/html": [
              "<pre style=\"white-space:pre;overflow-x:auto;line-height:normal;font-family:Menlo,'DejaVu Sans Mono',consolas,'Courier New',monospace\"><span style=\"font-weight: bold\">Model: \"functional_3\"</span>\n",
              "</pre>\n"
            ]
          },
          "metadata": {}
        },
        {
          "output_type": "display_data",
          "data": {
            "text/plain": [
              "┏━━━━━━━━━━━━━━━━━━━━━━━━━━━┳━━━━━━━━━━━━━━━━━━━━━━━━┳━━━━━━━━━━━━━━━━┳━━━━━━━━━━━━━━━━━━━━━━━━┓\n",
              "┃\u001b[1m \u001b[0m\u001b[1mLayer (type)             \u001b[0m\u001b[1m \u001b[0m┃\u001b[1m \u001b[0m\u001b[1mOutput Shape          \u001b[0m\u001b[1m \u001b[0m┃\u001b[1m \u001b[0m\u001b[1m       Param #\u001b[0m\u001b[1m \u001b[0m┃\u001b[1m \u001b[0m\u001b[1mConnected to          \u001b[0m\u001b[1m \u001b[0m┃\n",
              "┡━━━━━━━━━━━━━━━━━━━━━━━━━━━╇━━━━━━━━━━━━━━━━━━━━━━━━╇━━━━━━━━━━━━━━━━╇━━━━━━━━━━━━━━━━━━━━━━━━┩\n",
              "│ input_layer (\u001b[38;5;33mInputLayer\u001b[0m)  │ (\u001b[38;5;45mNone\u001b[0m, \u001b[38;5;34m25\u001b[0m, \u001b[38;5;34m25\u001b[0m, \u001b[38;5;34m3\u001b[0m)      │              \u001b[38;5;34m0\u001b[0m │ -                      │\n",
              "├───────────────────────────┼────────────────────────┼────────────────┼────────────────────────┤\n",
              "│ functional (\u001b[38;5;33mFunctional\u001b[0m)   │ (\u001b[38;5;45mNone\u001b[0m, \u001b[38;5;34m100\u001b[0m, \u001b[38;5;34m100\u001b[0m, \u001b[38;5;34m3\u001b[0m)    │      \u001b[38;5;34m2,044,291\u001b[0m │ input_layer[\u001b[38;5;34m0\u001b[0m][\u001b[38;5;34m0\u001b[0m]      │\n",
              "├───────────────────────────┼────────────────────────┼────────────────┼────────────────────────┤\n",
              "│ input_layer_1             │ (\u001b[38;5;45mNone\u001b[0m, \u001b[38;5;34m100\u001b[0m, \u001b[38;5;34m100\u001b[0m, \u001b[38;5;34m3\u001b[0m)    │              \u001b[38;5;34m0\u001b[0m │ -                      │\n",
              "│ (\u001b[38;5;33mInputLayer\u001b[0m)              │                        │                │                        │\n",
              "├───────────────────────────┼────────────────────────┼────────────────┼────────────────────────┤\n",
              "│ functional_1 (\u001b[38;5;33mFunctional\u001b[0m) │ (\u001b[38;5;45mNone\u001b[0m, \u001b[38;5;34m1\u001b[0m)              │     \u001b[38;5;34m30,384,961\u001b[0m │ functional[\u001b[38;5;34m0\u001b[0m][\u001b[38;5;34m0\u001b[0m]       │\n",
              "├───────────────────────────┼────────────────────────┼────────────────┼────────────────────────┤\n",
              "│ functional_2 (\u001b[38;5;33mFunctional\u001b[0m) │ (\u001b[38;5;45mNone\u001b[0m, \u001b[38;5;34m25\u001b[0m, \u001b[38;5;34m25\u001b[0m, \u001b[38;5;34m256\u001b[0m)    │      \u001b[38;5;34m2,325,568\u001b[0m │ functional[\u001b[38;5;34m0\u001b[0m][\u001b[38;5;34m0\u001b[0m]       │\n",
              "└───────────────────────────┴────────────────────────┴────────────────┴────────────────────────┘\n"
            ],
            "text/html": [
              "<pre style=\"white-space:pre;overflow-x:auto;line-height:normal;font-family:Menlo,'DejaVu Sans Mono',consolas,'Courier New',monospace\">┏━━━━━━━━━━━━━━━━━━━━━━━━━━━┳━━━━━━━━━━━━━━━━━━━━━━━━┳━━━━━━━━━━━━━━━━┳━━━━━━━━━━━━━━━━━━━━━━━━┓\n",
              "┃<span style=\"font-weight: bold\"> Layer (type)              </span>┃<span style=\"font-weight: bold\"> Output Shape           </span>┃<span style=\"font-weight: bold\">        Param # </span>┃<span style=\"font-weight: bold\"> Connected to           </span>┃\n",
              "┡━━━━━━━━━━━━━━━━━━━━━━━━━━━╇━━━━━━━━━━━━━━━━━━━━━━━━╇━━━━━━━━━━━━━━━━╇━━━━━━━━━━━━━━━━━━━━━━━━┩\n",
              "│ input_layer (<span style=\"color: #0087ff; text-decoration-color: #0087ff\">InputLayer</span>)  │ (<span style=\"color: #00d7ff; text-decoration-color: #00d7ff\">None</span>, <span style=\"color: #00af00; text-decoration-color: #00af00\">25</span>, <span style=\"color: #00af00; text-decoration-color: #00af00\">25</span>, <span style=\"color: #00af00; text-decoration-color: #00af00\">3</span>)      │              <span style=\"color: #00af00; text-decoration-color: #00af00\">0</span> │ -                      │\n",
              "├───────────────────────────┼────────────────────────┼────────────────┼────────────────────────┤\n",
              "│ functional (<span style=\"color: #0087ff; text-decoration-color: #0087ff\">Functional</span>)   │ (<span style=\"color: #00d7ff; text-decoration-color: #00d7ff\">None</span>, <span style=\"color: #00af00; text-decoration-color: #00af00\">100</span>, <span style=\"color: #00af00; text-decoration-color: #00af00\">100</span>, <span style=\"color: #00af00; text-decoration-color: #00af00\">3</span>)    │      <span style=\"color: #00af00; text-decoration-color: #00af00\">2,044,291</span> │ input_layer[<span style=\"color: #00af00; text-decoration-color: #00af00\">0</span>][<span style=\"color: #00af00; text-decoration-color: #00af00\">0</span>]      │\n",
              "├───────────────────────────┼────────────────────────┼────────────────┼────────────────────────┤\n",
              "│ input_layer_1             │ (<span style=\"color: #00d7ff; text-decoration-color: #00d7ff\">None</span>, <span style=\"color: #00af00; text-decoration-color: #00af00\">100</span>, <span style=\"color: #00af00; text-decoration-color: #00af00\">100</span>, <span style=\"color: #00af00; text-decoration-color: #00af00\">3</span>)    │              <span style=\"color: #00af00; text-decoration-color: #00af00\">0</span> │ -                      │\n",
              "│ (<span style=\"color: #0087ff; text-decoration-color: #0087ff\">InputLayer</span>)              │                        │                │                        │\n",
              "├───────────────────────────┼────────────────────────┼────────────────┼────────────────────────┤\n",
              "│ functional_1 (<span style=\"color: #0087ff; text-decoration-color: #0087ff\">Functional</span>) │ (<span style=\"color: #00d7ff; text-decoration-color: #00d7ff\">None</span>, <span style=\"color: #00af00; text-decoration-color: #00af00\">1</span>)              │     <span style=\"color: #00af00; text-decoration-color: #00af00\">30,384,961</span> │ functional[<span style=\"color: #00af00; text-decoration-color: #00af00\">0</span>][<span style=\"color: #00af00; text-decoration-color: #00af00\">0</span>]       │\n",
              "├───────────────────────────┼────────────────────────┼────────────────┼────────────────────────┤\n",
              "│ functional_2 (<span style=\"color: #0087ff; text-decoration-color: #0087ff\">Functional</span>) │ (<span style=\"color: #00d7ff; text-decoration-color: #00d7ff\">None</span>, <span style=\"color: #00af00; text-decoration-color: #00af00\">25</span>, <span style=\"color: #00af00; text-decoration-color: #00af00\">25</span>, <span style=\"color: #00af00; text-decoration-color: #00af00\">256</span>)    │      <span style=\"color: #00af00; text-decoration-color: #00af00\">2,325,568</span> │ functional[<span style=\"color: #00af00; text-decoration-color: #00af00\">0</span>][<span style=\"color: #00af00; text-decoration-color: #00af00\">0</span>]       │\n",
              "└───────────────────────────┴────────────────────────┴────────────────┴────────────────────────┘\n",
              "</pre>\n"
            ]
          },
          "metadata": {}
        },
        {
          "output_type": "display_data",
          "data": {
            "text/plain": [
              "\u001b[1m Total params: \u001b[0m\u001b[38;5;34m34,754,820\u001b[0m (132.58 MB)\n"
            ],
            "text/html": [
              "<pre style=\"white-space:pre;overflow-x:auto;line-height:normal;font-family:Menlo,'DejaVu Sans Mono',consolas,'Courier New',monospace\"><span style=\"font-weight: bold\"> Total params: </span><span style=\"color: #00af00; text-decoration-color: #00af00\">34,754,820</span> (132.58 MB)\n",
              "</pre>\n"
            ]
          },
          "metadata": {}
        },
        {
          "output_type": "display_data",
          "data": {
            "text/plain": [
              "\u001b[1m Trainable params: \u001b[0m\u001b[38;5;34m2,040,067\u001b[0m (7.78 MB)\n"
            ],
            "text/html": [
              "<pre style=\"white-space:pre;overflow-x:auto;line-height:normal;font-family:Menlo,'DejaVu Sans Mono',consolas,'Courier New',monospace\"><span style=\"font-weight: bold\"> Trainable params: </span><span style=\"color: #00af00; text-decoration-color: #00af00\">2,040,067</span> (7.78 MB)\n",
              "</pre>\n"
            ]
          },
          "metadata": {}
        },
        {
          "output_type": "display_data",
          "data": {
            "text/plain": [
              "\u001b[1m Non-trainable params: \u001b[0m\u001b[38;5;34m32,714,753\u001b[0m (124.80 MB)\n"
            ],
            "text/html": [
              "<pre style=\"white-space:pre;overflow-x:auto;line-height:normal;font-family:Menlo,'DejaVu Sans Mono',consolas,'Courier New',monospace\"><span style=\"font-weight: bold\"> Non-trainable params: </span><span style=\"color: #00af00; text-decoration-color: #00af00\">32,714,753</span> (124.80 MB)\n",
              "</pre>\n"
            ]
          },
          "metadata": {}
        }
      ]
    },
    {
      "cell_type": "markdown",
      "source": [
        "Sample the training data into small batches"
      ],
      "metadata": {
        "id": "kx8SCEUxTXwc"
      }
    },
    {
      "cell_type": "code",
      "source": [
        "batch_size = 1\n",
        "train_lr_batches = []\n",
        "train_hr_batches = []\n",
        "for it in range(int(train_hr.shape[0] / batch_size)):\n",
        "    start_idx = it * batch_size\n",
        "    end_idx = start_idx + batch_size\n",
        "    train_hr_batches.append(train_hr[start_idx:end_idx])\n",
        "    train_lr_batches.append(train_lr[start_idx:end_idx])\n",
        "train_lr_batches = np.array(train_lr_batches)\n",
        "train_hr_batches = np.array(train_hr_batches)"
      ],
      "metadata": {
        "id": "IQkvaeHQTXZH"
      },
      "execution_count": 17,
      "outputs": []
    },
    {
      "cell_type": "markdown",
      "source": [
        "Training the model"
      ],
      "metadata": {
        "id": "c_BPBwtoTrz1"
      }
    },
    {
      "cell_type": "code",
      "source": [
        "from tensorflow.keras.callbacks import ModelCheckpoint\n",
        "\n",
        "# Define the checkpoint callback\n",
        "checkpoint_path = \"/content/drive/MyDrive/Colab Notebooks/save_model/SRGAN-1_save/model_weights.weights.h5\"\n",
        "model_checkpoint = ModelCheckpoint(\n",
        "          checkpoint_path,\n",
        "          save_weights_only=True,    # Save only the weights, not the entire model\n",
        "          monitor='val_loss',      # Monitor validation loss\n",
        "          save_best_only=True,     # Save only the best model\n",
        "          mode='min',          # Save when the monitored quantity is minimized\n",
        "          verbose=1)\n",
        "epochs = 5\n",
        "for e in range(epochs):\n",
        "    gen_label = np.zeros((batch_size, 1))\n",
        "    real_label = np.ones((batch_size, 1))\n",
        "    g_losses = []\n",
        "    d_losses = []\n",
        "    for b in range(len(train_hr_batches)):\n",
        "        lr_imgs = train_lr_batches[b]\n",
        "        hr_imgs = train_hr_batches[b]\n",
        "        gen_imgs = generator.predict_on_batch(lr_imgs)\n",
        "\n",
        "        #Train the discriminator\n",
        "        discriminator.trainable = True\n",
        "        d_loss_gen = discriminator.train_on_batch(gen_imgs,\n",
        "          gen_label)\n",
        "        d_loss_real = discriminator.train_on_batch(hr_imgs,\n",
        "          real_label)\n",
        "        discriminator.trainable = False\n",
        "        d_loss = 0.5 * np.add(d_loss_gen, d_loss_real)\n",
        "        image_features = vgg.predict(hr_imgs)\n",
        "\n",
        "        #Train the generator\n",
        "        g_loss, _, _ = gan_model.train_on_batch([lr_imgs, hr_imgs],\n",
        "          [real_label, image_features])\n",
        "        d_losses.append(d_loss)\n",
        "        g_losses.append(g_loss)\n",
        "\n",
        "    g_losses = np.array(g_losses)\n",
        "    d_losses = np.array(d_losses)\n",
        "    g_loss = np.sum(g_losses, axis=0) / len(g_losses)\n",
        "    d_loss = np.sum(d_losses, axis=0) / len(d_losses)\n",
        "\n",
        "    # Save model weights at the end of each epoch\n",
        "    gan_model.save_weights(checkpoint_path)\n",
        "    print(\"epoch:\", e+1 ,\"g_loss:\", g_loss, \"d_loss:\", d_loss)"
      ],
      "metadata": {
        "id": "Yj03IkKATrhj",
        "colab": {
          "base_uri": "https://localhost:8080/"
        },
        "outputId": "8d06e981-c970-4b55-c466-74792ba14912"
      },
      "execution_count": 18,
      "outputs": [
        {
          "output_type": "stream",
          "name": "stdout",
          "text": [
            "\u001b[1m1/1\u001b[0m \u001b[32m━━━━━━━━━━━━━━━━━━━━\u001b[0m\u001b[37m\u001b[0m \u001b[1m0s\u001b[0m 366ms/step\n"
          ]
        },
        {
          "output_type": "stream",
          "name": "stderr",
          "text": [
            "/usr/local/lib/python3.11/dist-packages/keras/src/models/functional.py:237: UserWarning: The structure of `inputs` doesn't match the expected structure.\n",
            "Expected: ['keras_tensor_137']\n",
            "Received: inputs=Tensor(shape=(1, 100, 100, 3))\n",
            "  warnings.warn(msg)\n"
          ]
        },
        {
          "output_type": "stream",
          "name": "stdout",
          "text": [
            "\u001b[1m1/1\u001b[0m \u001b[32m━━━━━━━━━━━━━━━━━━━━\u001b[0m\u001b[37m\u001b[0m \u001b[1m0s\u001b[0m 196ms/step\n",
            "epoch: 1 g_loss: 569.1056518554688 d_loss: [15.494736  0.0625  ]\n",
            "\u001b[1m1/1\u001b[0m \u001b[32m━━━━━━━━━━━━━━━━━━━━\u001b[0m\u001b[37m\u001b[0m \u001b[1m0s\u001b[0m 127ms/step\n",
            "\u001b[1m1/1\u001b[0m \u001b[32m━━━━━━━━━━━━━━━━━━━━\u001b[0m\u001b[37m\u001b[0m \u001b[1m0s\u001b[0m 129ms/step\n",
            "epoch: 2 g_loss: 571.8074951171875 d_loss: [16.95327     0.49285713]\n",
            "\u001b[1m1/1\u001b[0m \u001b[32m━━━━━━━━━━━━━━━━━━━━\u001b[0m\u001b[37m\u001b[0m \u001b[1m0s\u001b[0m 125ms/step\n",
            "\u001b[1m1/1\u001b[0m \u001b[32m━━━━━━━━━━━━━━━━━━━━\u001b[0m\u001b[37m\u001b[0m \u001b[1m0s\u001b[0m 133ms/step\n",
            "epoch: 3 g_loss: 461.81036376953125 d_loss: [28.846966   0.4497475]\n",
            "\u001b[1m1/1\u001b[0m \u001b[32m━━━━━━━━━━━━━━━━━━━━\u001b[0m\u001b[37m\u001b[0m \u001b[1m0s\u001b[0m 214ms/step\n",
            "\u001b[1m1/1\u001b[0m \u001b[32m━━━━━━━━━━━━━━━━━━━━\u001b[0m\u001b[37m\u001b[0m \u001b[1m0s\u001b[0m 139ms/step\n",
            "epoch: 4 g_loss: 388.75860595703125 d_loss: [20.894566   0.5837226]\n",
            "\u001b[1m1/1\u001b[0m \u001b[32m━━━━━━━━━━━━━━━━━━━━\u001b[0m\u001b[37m\u001b[0m \u001b[1m0s\u001b[0m 131ms/step\n",
            "\u001b[1m1/1\u001b[0m \u001b[32m━━━━━━━━━━━━━━━━━━━━\u001b[0m\u001b[37m\u001b[0m \u001b[1m0s\u001b[0m 128ms/step\n",
            "epoch: 5 g_loss: 339.64862060546875 d_loss: [16.353756  0.674484]\n"
          ]
        }
      ]
    },
    {
      "cell_type": "markdown",
      "source": [
        "Evaluate the model"
      ],
      "metadata": {
        "id": "byA7iFcnT8Z7"
      }
    },
    {
      "cell_type": "code",
      "source": [
        "label = np.ones((len(test_lr),1))\n",
        "test_features = vgg.predict(test_hr)\n",
        "eval,_,_ = gan_model.evaluate([test_lr, test_hr], [label,test_features])\n",
        "gan_model.save('/content/drive/MyDrive/Colab Notebooks/save_model/SRGAN-1_save/final_model_weights.h5')"
      ],
      "metadata": {
        "id": "YPfY34cnT8Id",
        "colab": {
          "base_uri": "https://localhost:8080/"
        },
        "outputId": "c53e4885-93c4-4cc1-c2ce-83f283ffc90f"
      },
      "execution_count": 20,
      "outputs": [
        {
          "output_type": "stream",
          "name": "stdout",
          "text": [
            "\u001b[1m1/1\u001b[0m \u001b[32m━━━━━━━━━━━━━━━━━━━━\u001b[0m\u001b[37m\u001b[0m \u001b[1m0s\u001b[0m 210ms/step\n",
            "\u001b[1m1/1\u001b[0m \u001b[32m━━━━━━━━━━━━━━━━━━━━\u001b[0m\u001b[37m\u001b[0m \u001b[1m1s\u001b[0m 834ms/step - functional_1_loss: 0.0000e+00 - functional_2_loss: 185.6128 - loss: 185.6128\n"
          ]
        },
        {
          "output_type": "stream",
          "name": "stderr",
          "text": [
            "WARNING:absl:You are saving your model as an HDF5 file via `model.save()` or `keras.saving.save_model(model)`. This file format is considered legacy. We recommend using instead the native Keras format, e.g. `model.save('my_model.keras')` or `keras.saving.save_model(model, 'my_model.keras')`. \n"
          ]
        }
      ]
    },
    {
      "cell_type": "markdown",
      "source": [
        "Predict the output"
      ],
      "metadata": {
        "id": "cjLOJMxFUEAU"
      }
    },
    {
      "cell_type": "code",
      "source": [
        "gan_model.load_weights\n",
        "test_prediction = generator.predict_on_batch(test_lr)"
      ],
      "metadata": {
        "id": "BkeSNM_3UDuj"
      },
      "execution_count": 22,
      "outputs": []
    },
    {
      "cell_type": "code",
      "source": [
        "import matplotlib.pyplot as plt\n",
        "\n",
        "plt.figure(figsize=(15, 5))\n",
        "plt.subplot(3, 5, 1)\n",
        "plt.imshow(test_lr[1])\n",
        "plt.title(\"Low Resolution\")\n",
        "plt.axis(\"off\")\n",
        "\n",
        "plt.subplot(3, 5, 2)\n",
        "plt.imshow(test_prediction[1])\n",
        "plt.title(\"Generated High Resolution\")\n",
        "plt.axis(\"off\")\n",
        "\n",
        "plt.tight_layout()\n",
        "plt.show()\n"
      ],
      "metadata": {
        "colab": {
          "base_uri": "https://localhost:8080/",
          "height": 235
        },
        "id": "JtV05hLbjq6H",
        "outputId": "28c6d418-84fc-4f08-9385-c206d5159cde"
      },
      "execution_count": 36,
      "outputs": [
        {
          "output_type": "stream",
          "name": "stderr",
          "text": [
            "WARNING:matplotlib.image:Clipping input data to the valid range for imshow with RGB data ([0..1] for floats or [0..255] for integers). Got range [-0.46371993..0.5859083].\n"
          ]
        },
        {
          "output_type": "display_data",
          "data": {
            "text/plain": [
              "<Figure size 1500x500 with 2 Axes>"
            ],
            "image/png": "[encoded data removed]"
          },
          "metadata": {}
        }
      ]
    }
  ]
}